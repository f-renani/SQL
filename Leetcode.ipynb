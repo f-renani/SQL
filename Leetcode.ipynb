{
 "cells": [
  {
   "cell_type": "code",
   "execution_count": null,
   "metadata": {},
   "outputs": [],
   "source": []
  },
  {
   "cell_type": "markdown",
   "metadata": {},
   "source": [
    "# LeetCode SQL Solutions\n",
    "\n",
    "## Table of Contents\n",
    "1. Problem 1: [196. Delete duplication Email](https://leetcode.com/problems/delete-duplicate-emails/?envType=study-plan-v2&envId=top-sql-50)\n"
   ]
  },
  {
   "cell_type": "markdown",
   "metadata": {},
   "source": [
    "# 196. Delete duplication Email\n",
    "\n",
    "Table: Person\n",
    "\n",
    "| Column Name | Type    |\n",
    "|-------------|---------|\n",
    "| id          | int     |\n",
    "| email       | varchar |\n",
    "\n",
    "- `id` is the primary key (column with unique values) for this table.\n",
    "- Each row of this table contains an email. The emails will not contain uppercase letters.\n",
    "\n",
    "## Problem Statement\n",
    "\n",
    "Write a solution to delete all duplicate emails, keeping only one unique email with the smallest id.\n",
    "\n",
    "> **Note for SQL users**: You are supposed to write a `DELETE` statement and not a `SELECT` one.\n",
    "\n",
    "> **Note for Pandas users**: You are supposed to modify `Person` in place.\n",
    "\n",
    "After running your script, the answer shown is the `Person` table. The driver will first compile and run your piece of code and then show the `Person` table. The final order of the `Person` table does not matter.\n",
    "\n",
    "## Example\n",
    "\n",
    "### Input: \n",
    "`Person` table:\n",
    "\n",
    "| id | email            |\n",
    "|----|------------------|\n",
    "| 1  | john@example.com |\n",
    "| 2  | bob@example.com  |\n",
    "| 3  | john@example.com |\n",
    "\n",
    "### Output: \n",
    "| id | email            |\n",
    "|----|------------------|\n",
    "| 1  | john@example.com |\n",
    "| 2  | bob@example.com  |\n",
    "\n",
    "**Explanation**: `john@example.com` is repeated two times. We keep the row with the smallest id = 1.\n"
   ]
  },
  {
   "cell_type": "markdown",
   "metadata": {},
   "source": []
  },
  {
   "cell_type": "markdown",
   "metadata": {},
   "source": [
    "First I tried this solution:"
   ]
  },
  {
   "cell_type": "markdown",
   "metadata": {},
   "source": [
    "### SQL Solution\n",
    "\n",
    "```sql\n",
    "SELECT a.name, b.salary\n",
    "FROM Employee a\n",
    "LEFT JOIN Salary b ON a.id = b.emp_id;"
   ]
  },
  {
   "cell_type": "markdown",
   "metadata": {},
   "source": [
    "This SQL query result in an error due to the use of the SELECT subquery within a DELETE statement, as many database systems do not allow modifying a table (DELETE in this case) while also selecting from the same table in a subquery (due to issues like possible data modification conflicts).\n",
    "\n",
    "Here are two common issues:\n",
    "\n",
    "- Subquery modification restriction: Some SQL engines (e.g., MySQL) do not allow selecting from the same table that yo are trying to modify in the DELETE query.\n",
    "\n",
    "- Efficient deletion: Even if the query works in some databases, it is not necessarily optimized for performance, especially if you have a large dataset.\n",
    "\n",
    "This can be resolved as follows:"
   ]
  },
  {
   "cell_type": "markdown",
   "metadata": {},
   "source": [
    "```sql\n",
    "with helper as\n",
    "(select min(id) as min_id from Person group by email)\n",
    "delete from Person\n",
    "where id not in (select min_id from helper)"
   ]
  }
 ],
 "metadata": {
  "language_info": {
   "name": "python"
  }
 },
 "nbformat": 4,
 "nbformat_minor": 2
}
