{
 "cells": [
  {
   "cell_type": "code",
   "execution_count": null,
   "metadata": {},
   "outputs": [],
   "source": []
  },
  {
   "cell_type": "markdown",
   "metadata": {},
   "source": [
    "# LeetCode SQL Solutions\n",
    "\n",
    "## Table of Contents\n",
    "1. Problem 1: [196. Delete duplication Email](https://leetcode.com/problems/delete-duplicate-emails/?envType=study-plan-v2&envId=top-sql-50)\n"
   ]
  },
  {
   "cell_type": "markdown",
   "metadata": {},
   "source": [
    "# 196. Delete duplication Email\n",
    "\n",
    "Table: Person\n",
    "\n",
    "| Column Name | Type    |\n",
    "|-------------|---------|\n",
    "| id          | int     |\n",
    "| email       | varchar |\n",
    "\n",
    "- `id` is the primary key (column with unique values) for this table.\n",
    "- Each row of this table contains an email. The emails will not contain uppercase letters.\n",
    "\n",
    "## Problem Statement\n",
    "\n",
    "Write a solution to delete all duplicate emails, keeping only one unique email with the smallest id.\n",
    "\n",
    "> **Note for SQL users**: You are supposed to write a `DELETE` statement and not a `SELECT` one.\n",
    "\n",
    "> **Note for Pandas users**: You are supposed to modify `Person` in place.\n",
    "\n",
    "After running your script, the answer shown is the `Person` table. The driver will first compile and run your piece of code and then show the `Person` table. The final order of the `Person` table does not matter.\n",
    "\n",
    "## Example\n",
    "\n",
    "### Input: \n",
    "`Person` table:\n",
    "\n",
    "| id | email            |\n",
    "|----|------------------|\n",
    "| 1  | john@example.com |\n",
    "| 2  | bob@example.com  |\n",
    "| 3  | john@example.com |\n",
    "\n",
    "### Output: \n",
    "| id | email            |\n",
    "|----|------------------|\n",
    "| 1  | john@example.com |\n",
    "| 2  | bob@example.com  |\n",
    "\n",
    "**Explanation**: `john@example.com` is repeated two times. We keep the row with the smallest id = 1.\n"
   ]
  },
  {
   "cell_type": "markdown",
   "metadata": {},
   "source": []
  },
  {
   "cell_type": "markdown",
   "metadata": {},
   "source": [
    "First I tried this solution:"
   ]
  },
  {
   "cell_type": "markdown",
   "metadata": {},
   "source": [
    "### SQL Solution\n",
    "\n",
    "```sql\n",
    "SELECT a.name, b.salary\n",
    "FROM Employee a\n",
    "LEFT JOIN Salary b ON a.id = b.emp_id;"
   ]
  },
  {
   "cell_type": "markdown",
   "metadata": {},
   "source": [
    "This SQL query result in an error due to the use of the SELECT subquery within a DELETE statement, as many database systems do not allow modifying a table (DELETE in this case) while also selecting from the same table in a subquery (due to issues like possible data modification conflicts).\n",
    "\n",
    "Here are two common issues:\n",
    "\n",
    "- Subquery modification restriction: Some SQL engines (e.g., MySQL) do not allow selecting from the same table that yo are trying to modify in the DELETE query.\n",
    "\n",
    "- Efficient deletion: Even if the query works in some databases, it is not necessarily optimized for performance, especially if you have a large dataset.\n",
    "\n",
    "This can be resolved as follows:"
   ]
  },
  {
   "cell_type": "markdown",
   "metadata": {},
   "source": [
    "```sql\n",
    "with helper as\n",
    "(select min(id) as min_id from Person group by email)\n",
    "delete from Person\n",
    "where id not in (select min_id from helper)"
   ]
  },
  {
   "cell_type": "markdown",
   "metadata": {},
   "source": [
    "# 1484. Group Sold Products By The Date\n",
    "\n",
    "\n",
    "Table: Activities\n",
    "\n",
    "| Column Name | Type    |\n",
    "|-------------|---------|\n",
    "| sell_date   | date    |\n",
    "| product     | varchar |\n",
    "\n",
    "- There is no primary key (column with unique values) for this table. It may contain duplicates.\n",
    "- Each row of this table contains the product name and the date it was sold in a market.\n",
    "\n",
    "### Problem Statement\n",
    "\n",
    "Write a solution to find for each date the number of different products sold and their names.\n",
    "\n",
    "The sold products names for each date should be sorted lexicographically.\n",
    "\n",
    "Return the result table ordered by `sell_date`.\n",
    "\n",
    "### Example\n",
    "\n",
    "### Input: \n",
    "`Activities` table:\n",
    "\n",
    "| sell_date  | product     |\n",
    "|------------|-------------|\n",
    "| 2020-05-30 | Headphone   |\n",
    "| 2020-06-01 | Pencil      |\n",
    "| 2020-06-02 | Mask        |\n",
    "| 2020-05-30 | Basketball  |\n",
    "| 2020-06-01 | Bible       |\n",
    "| 2020-06-02 | Mask        |\n",
    "| 2020-05-30 | T-Shirt     |\n",
    "\n",
    "### Output: \n",
    "| sell_date  | num_sold | products                     |\n",
    "|------------|----------|------------------------------|\n",
    "| 2020-05-30 | 3        | Basketball,Headphone,T-Shirt |\n",
    "| 2020-06-01 | 2        | Bible,Pencil                 |\n",
    "| 2020-06-02 | 1        | Mask                         |\n",
    "\n",
    "**Explanation**: \n",
    "- For 2020-05-30, sold items were (Headphone, Basketball, T-Shirt); they are sorted lexicographically and separated by a comma.\n",
    "- For 2020-06-01, sold items were (Pencil, Bible); they are sorted lexicographically and separated by a comma.\n",
    "- For 2020-06-02, the sold item is (Mask); it is returned as is.\n"
   ]
  },
  {
   "cell_type": "markdown",
   "metadata": {},
   "source": [
    "Trick:\n",
    "\n",
    "Utilized the `GROUP_CONCAT` function in MySQL to return row values in a comma-separated format, allowing for efficient aggregation of product names sold on specific dates."
   ]
  },
  {
   "cell_type": "markdown",
   "metadata": {},
   "source": [
    "### SQL solution\n",
    "\n",
    "```sql\n",
    "select sell_date, count(distinct product) as num_sold , GROUP_CONCAT(distinct product order by product) as products\n",
    "from Activities\n",
    "group by sell_date\n",
    "order by sell_date, num_sold"
   ]
  },
  {
   "cell_type": "markdown",
   "metadata": {},
   "source": [
    "## 1327. List the Products Ordered in a Period\n",
    "\n",
    "Table: Products\n",
    "\n",
    "| Column Name      | Type    |\n",
    "|------------------|---------|\n",
    "| product_id       | int     |\n",
    "| product_name     | varchar |\n",
    "| product_category | varchar |\n",
    "\n",
    "- `product_id` is the primary key (column with unique values) for this table.\n",
    "- This table contains data about the company's products.\n",
    "\n",
    "## Table: Orders\n",
    "\n",
    "| Column Name   | Type    |\n",
    "|---------------|---------|\n",
    "| product_id    | int     |\n",
    "| order_date    | date    |\n",
    "| unit          | int     |\n",
    "\n",
    "- This table may have duplicate rows.\n",
    "- `product_id` is a foreign key (reference column) to the Products table.\n",
    "- `unit` is the number of products ordered on `order_date`.\n",
    "\n",
    "### Problem Statement\n",
    "\n",
    "Write a solution to get the names of products that have at least 100 units ordered in February 2020 and their amount.\n",
    "\n",
    "Return the result table in any order.\n",
    "\n",
    "### Example\n",
    "\n",
    "**Input:**\n",
    "\n",
    "Products table:\n",
    "\n",
    "| product_id  | product_name          | product_category |\n",
    "|-------------|-----------------------|------------------|\n",
    "| 1           | Leetcode Solutions    | Book             |\n",
    "| 2           | Jewels of Stringology | Book             |\n",
    "| 3           | HP                    | Laptop           |\n",
    "| 4           | Lenovo                | Laptop           |\n",
    "| 5           | Leetcode Kit          | T-shirt          |\n",
    "\n",
    "Orders table:\n",
    "\n",
    "| product_id   | order_date   | unit     |\n",
    "|--------------|--------------|----------|\n",
    "| 1            | 2020-02-05   | 60       |\n",
    "| 1            | 2020-02-10   | 70       |\n",
    "| 2            | 2020-01-18   | 30       |\n",
    "| 2            | 2020-02-11   | 80       |\n",
    "| 3            | 2020-02-17   | 2        |\n",
    "| 3            | 2020-02-24   | 3        |\n",
    "| 4            | 2020-03-01   | 20       |\n",
    "| 4            | 2020-03-04   | 30       |\n",
    "| 4            | 2020-03-04   | 60       |\n",
    "| 5            | 2020-02-25   | 50       |\n",
    "| 5            | 2020-02-27   | 50       |\n",
    "| 5            | 2020-03-01   | 50       |\n",
    "\n",
    "**Output:**\n",
    "\n",
    "| product_name       | unit    |\n",
    "|--------------------|---------|\n",
    "| Leetcode Solutions | 130     |\n",
    "| Leetcode Kit       | 100     |\n",
    "\n",
    "### Explanation\n",
    "\n",
    "- Products with `product_id` = 1 were ordered in February for a total of (60 + 70) = 130 units.\n",
    "- Products with `product_id` = 2 were ordered in February for a total of 80 units.\n",
    "- Products with `product_id` = 3 were ordered in February for a total of (2 + 3) = 5 units.\n",
    "- Products with `product_id` = 4 were not ordered in February 2020.\n",
    "- Products with `product_id` = 5 were ordered in February for a total of (50 + 50) = 100 units.\n"
   ]
  },
  {
   "cell_type": "markdown",
   "metadata": {},
   "source": [
    "# Trick:\n",
    "\n",
    "`DATE_FORMAT` is a function in SQL (commonly used in MySQL) that allows you to format date values based on a specified format string. It is useful for presenting date values in different formats like YYYY-MM-DD, MM/DD/YYYY, or extracting parts of a date like the month or year.\n",
    "\n",
    "Syntax\n",
    "```sql\n",
    "DATE_FORMAT(date, format)\n",
    "```\n",
    "\n",
    "- date: The date value you want to format.\n",
    "- format: The string that defines the output format.\n",
    "- Common Format Specifiers\n",
    "- %Y: Four-digit year (e.g., 2023)\n",
    "- %m: Two-digit month (e.g., 09 for September)\n",
    "- %d: Two-digit day of the month (e.g., 27)\n",
    "- %H: Two-digit hour (24-hour format)\n",
    "- %i: Two-digit minute\n",
    "- %s: Two-digit second"
   ]
  },
  {
   "cell_type": "markdown",
   "metadata": {},
   "source": [
    "### SQL solution\n",
    "\n",
    "```sql\n",
    "select min(p.product_name) as product_name ,sum(o.unit) as unit\n",
    "from Orders o\n",
    "join Products p\n",
    "on o.product_id = p.product_id\n",
    "and year(o.order_date)=2020  and month(o.order_date)=2   # date_forma(o.order_date, '%Y-%m')='2020-02'\n",
    "group by o.product_id\n",
    "having sum(o.unit)>=100"
   ]
  },
  {
   "cell_type": "markdown",
   "metadata": {},
   "source": []
  },
  {
   "cell_type": "markdown",
   "metadata": {},
   "source": []
  },
  {
   "cell_type": "markdown",
   "metadata": {},
   "source": []
  }
 ],
 "metadata": {
  "language_info": {
   "name": "python"
  }
 },
 "nbformat": 4,
 "nbformat_minor": 2
}
